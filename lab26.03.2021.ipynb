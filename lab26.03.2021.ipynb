{
 "cells": [
  {
   "cell_type": "code",
   "execution_count": 29,
   "id": "geographic-doctrine",
   "metadata": {},
   "outputs": [],
   "source": [
    "def decimalToBinary(n):\n",
    "    return bin(n).replace(\"0b\", \"\")"
   ]
  },
  {
   "cell_type": "code",
   "execution_count": 40,
   "id": "parallel-performance",
   "metadata": {},
   "outputs": [],
   "source": [
    "def Solution(n):\n",
    "    answer = 0\n",
    "    first = False\n",
    "    pre_answer = 0\n",
    "\n",
    "    for i in decimalToBinary(n):\n",
    "        if i == '1' and not first:\n",
    "            first = True\n",
    "        if i == '0' and first:\n",
    "            pre_answer+=1\n",
    "        if i == '1' and first:\n",
    "            if answer<pre_answer:\n",
    "                answer = pre_answer\n",
    "            fisrt = False\n",
    "            pre_answer = 0\n",
    "        \n",
    "    return answer,decimalToBinary(n)"
   ]
  },
  {
   "cell_type": "code",
   "execution_count": 44,
   "id": "vertical-suite",
   "metadata": {},
   "outputs": [
    {
     "data": {
      "text/plain": [
       "(1, '10100')"
      ]
     },
     "execution_count": 44,
     "metadata": {},
     "output_type": "execute_result"
    }
   ],
   "source": [
    "Solution(20)\n",
    "\n",
    "\n"
   ]
  },
  {
   "cell_type": "code",
   "execution_count": null,
   "id": "early-composer",
   "metadata": {},
   "outputs": [],
   "source": []
  }
 ],
 "metadata": {
  "kernelspec": {
   "display_name": "Python 3",
   "language": "python",
   "name": "python3"
  },
  "language_info": {
   "codemirror_mode": {
    "name": "ipython",
    "version": 3
   },
   "file_extension": ".py",
   "mimetype": "text/x-python",
   "name": "python",
   "nbconvert_exporter": "python",
   "pygments_lexer": "ipython3",
   "version": "3.8.2"
  }
 },
 "nbformat": 4,
 "nbformat_minor": 5
}
