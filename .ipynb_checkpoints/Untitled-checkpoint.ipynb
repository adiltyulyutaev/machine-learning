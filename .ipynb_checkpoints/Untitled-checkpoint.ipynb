{
 "cells": [
  {
   "cell_type": "code",
   "execution_count": 8,
   "id": "outer-interval",
   "metadata": {},
   "outputs": [],
   "source": [
    "import numpy as np\n",
    "from collections import Counter"
   ]
  },
  {
   "cell_type": "code",
   "execution_count": 5,
   "id": "corporate-mailman",
   "metadata": {},
   "outputs": [],
   "source": [
    "def task1(x):\n",
    "    cnt = 0\n",
    "    length = len(x)\n",
    "    for a in range(length):\n",
    "        for b in range(a+1,length):\n",
    "            if cnt>=10000000:\n",
    "                return -1\n",
    "            if np.abs(a-b) <= x[a] + x[b]:\n",
    "                cnt+=1\n",
    "    return cnt"
   ]
  },
  {
   "cell_type": "code",
   "execution_count": 6,
   "id": "nutritional-asthma",
   "metadata": {},
   "outputs": [
    {
     "data": {
      "text/plain": [
       "11"
      ]
     },
     "execution_count": 6,
     "metadata": {},
     "output_type": "execute_result"
    }
   ],
   "source": [
    "task1([1, 5, 2, 1, 4, 0])"
   ]
  },
  {
   "cell_type": "code",
   "execution_count": 17,
   "id": "hazardous-soldier",
   "metadata": {},
   "outputs": [],
   "source": [
    "def task2(x):\n",
    "    a = Counter(x)\n",
    "    for key in a:\n",
    "        if a[key]==1:\n",
    "            return key"
   ]
  },
  {
   "cell_type": "code",
   "execution_count": 18,
   "id": "extra-brown",
   "metadata": {},
   "outputs": [
    {
     "data": {
      "text/plain": [
       "7"
      ]
     },
     "execution_count": 18,
     "metadata": {},
     "output_type": "execute_result"
    }
   ],
   "source": [
    "task2([9, 3, 9, 3, 9, 7, 9])"
   ]
  },
  {
   "cell_type": "code",
   "execution_count": null,
   "id": "outer-persian",
   "metadata": {},
   "outputs": [],
   "source": [
    "def task3(size, direction):\n",
    "    lenght = len(size)\n",
    "    cnt = 0\n",
    "    down,up = 0, 1\n",
    "    while True:\n",
    "        if down == len(size)-1:\n",
    "            break\n",
    "        elif direction[down] == 0 or direction[up] == 1:\n",
    "            down += 1\n",
    "            up +=1\n",
    "        else:\n",
    "            if size[down] > size[up]:\n",
    "                del size[up], direction[up]\n",
    "            else:\n",
    "                del size[down], direction[down]\n",
    "                if down != 0:\n",
    "                    up -= 1\n",
    "                    down -= 1\n",
    "            cnt+=1\n",
    "    return lenght - cnt"
   ]
  }
 ],
 "metadata": {
  "kernelspec": {
   "display_name": "Python 3",
   "language": "python",
   "name": "python3"
  },
  "language_info": {
   "codemirror_mode": {
    "name": "ipython",
    "version": 3
   },
   "file_extension": ".py",
   "mimetype": "text/x-python",
   "name": "python",
   "nbconvert_exporter": "python",
   "pygments_lexer": "ipython3",
   "version": "3.9.2"
  }
 },
 "nbformat": 4,
 "nbformat_minor": 5
}
